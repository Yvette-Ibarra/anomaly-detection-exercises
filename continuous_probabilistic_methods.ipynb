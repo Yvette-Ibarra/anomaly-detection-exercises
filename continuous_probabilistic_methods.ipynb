{
 "cells": [
  {
   "cell_type": "markdown",
   "id": "942a12a0",
   "metadata": {},
   "source": [
    "# Continuous_probabilistic_methods"
   ]
  },
  {
   "cell_type": "code",
   "execution_count": null,
   "id": "7b74baf3",
   "metadata": {},
   "outputs": [],
   "source": [
    "import pandas as pd\n",
    "import numpy as np\n",
    "import seaborn as sns\n",
    "import matplotlib.pyplot as plt\n",
    "import scipy.stats as stats\n",
    "\n",
    "\n"
   ]
  },
  {
   "cell_type": "markdown",
   "id": "165e6d2b",
   "metadata": {},
   "source": [
    "Define a function named get_lower_and_upper_bounds that has two arguments. The first argument is a pandas Series. The second argument is the multiplier, which should have a default argument of 1.5."
   ]
  },
  {
   "cell_type": "code",
   "execution_count": null,
   "id": "ffd78e44",
   "metadata": {},
   "outputs": [],
   "source": [
    "def get_lower_and_upper_bounds (series, multiplier=1.5):\n",
    "\n",
    "    # calculate our q1 and q3\n",
    "    q1 = series.quantile(0.25)\n",
    "    q3 = series.quantile(0.75)\n",
    "    iqr = q3 - q1\n",
    "    \n",
    "    # calculare lower bound and upper bound\n",
    "    lower_bound = q1 - (multiplier * iqr)\n",
    "    upper_bound = q3 + (multiplier * iqr)\n",
    "    return lower_bound, upper_bound"
   ]
  },
  {
   "cell_type": "code",
   "execution_count": null,
   "id": "e28e52db",
   "metadata": {},
   "outputs": [],
   "source": [
    "def get_iqr(series, multiplier=1.5):\n",
    "\n",
    "    # calculate our q1 and q3\n",
    "    q1 = series.quantile(0.25)\n",
    "    q3 = series.quantile(0.75)\n",
    "    iqr = q3 - q1\n",
    "    \n",
    "    return iqr"
   ]
  },
  {
   "cell_type": "markdown",
   "id": "92fc0a0b",
   "metadata": {},
   "source": [
    "# 1. Using lemonade.csv dataset and focusing on continuous variables:"
   ]
  },
  {
   "cell_type": "code",
   "execution_count": null,
   "id": "7c02b90e",
   "metadata": {
    "scrolled": true
   },
   "outputs": [],
   "source": [
    "df = pd.read_csv('lemonade.csv')\n",
    "df.head()"
   ]
  },
  {
   "cell_type": "markdown",
   "id": "73643e91",
   "metadata": {},
   "source": [
    "### Set the Date to to be the datetime"
   ]
  },
  {
   "cell_type": "code",
   "execution_count": null,
   "id": "e991c466",
   "metadata": {},
   "outputs": [],
   "source": [
    "df.Date = pd.to_datetime(df.Date)\n",
    "df = df.set_index('Date')"
   ]
  },
  {
   "cell_type": "code",
   "execution_count": null,
   "id": "a7446779",
   "metadata": {},
   "outputs": [],
   "source": [
    "df['month'] = df.index.month_name()"
   ]
  },
  {
   "cell_type": "code",
   "execution_count": null,
   "id": "bc51429b",
   "metadata": {},
   "outputs": [],
   "source": [
    "df.head()"
   ]
  },
  {
   "cell_type": "code",
   "execution_count": null,
   "id": "16f99899",
   "metadata": {},
   "outputs": [],
   "source": [
    "df.isnull().sum()"
   ]
  },
  {
   "cell_type": "code",
   "execution_count": null,
   "id": "3685c941",
   "metadata": {
    "scrolled": false
   },
   "outputs": [],
   "source": [
    "df.describe()"
   ]
  },
  {
   "cell_type": "code",
   "execution_count": null,
   "id": "7da6a67e",
   "metadata": {
    "scrolled": true
   },
   "outputs": [],
   "source": [
    "columns=['Temperature', 'Rainfall','Flyers','Price','Sales']\n",
    "for col in columns:\n",
    "    plt.scatter(df.month, df[col])\n",
    "    plt.show();"
   ]
  },
  {
   "cell_type": "markdown",
   "id": "73950f16",
   "metadata": {},
   "source": [
    "### * Use the IQR Range Rule and the upper and lower bounds to identify the lower outliers of each column of lemonade.csv, using the multiplier of 1.5. Do these lower outliers make sense? Which outliers should be kept?"
   ]
  },
  {
   "cell_type": "code",
   "execution_count": null,
   "id": "dd3c31bc",
   "metadata": {
    "scrolled": true
   },
   "outputs": [],
   "source": [
    "columns=['Temperature', 'Rainfall','Flyers','Price','Sales']\n",
    "for col in columns:\n",
    "    lower_bound, upper_bound = get_lower_and_upper_bounds(df[col])\n",
    "    print(f'{col}--lower bound: {lower_bound}, upper bound: {upper_bound}')\n",
    "    "
   ]
  },
  {
   "cell_type": "code",
   "execution_count": null,
   "id": "593a6df6",
   "metadata": {},
   "outputs": [],
   "source": [
    "    \n",
    "columns=['Temperature', 'Rainfall','Flyers','Price','Sales']\n",
    "for col in columns:\n",
    "    lower_bound, upper_bound = get_lower_and_upper_bounds(df[col])\n",
    "    print(f'{col}--lower bound: {lower_bound}, upper bound: {upper_bound}')    \n",
    "       \n",
    "    lower = (df[(df[col])<lower_bound])\n",
    "    print(lower)\n",
    "    print('____________________')"
   ]
  },
  {
   "cell_type": "code",
   "execution_count": null,
   "id": "e37727cc",
   "metadata": {},
   "outputs": [],
   "source": [
    "df[df.Flyers<4]"
   ]
  },
  {
   "cell_type": "markdown",
   "id": "27bc50de",
   "metadata": {},
   "source": [
    "**A negative number of Flyers does not make sense. Any negative number of flyers should not be kept.**"
   ]
  },
  {
   "cell_type": "code",
   "execution_count": null,
   "id": "3e0fd342",
   "metadata": {
    "scrolled": false
   },
   "outputs": [],
   "source": [
    "df[df.Temperature<16.7]"
   ]
  },
  {
   "cell_type": "markdown",
   "id": "38f603b7",
   "metadata": {},
   "source": [
    "**Temperature that is 15.1 makes sense and can be kept as an outlier**"
   ]
  },
  {
   "cell_type": "markdown",
   "id": "9e25aa20",
   "metadata": {},
   "source": [
    "The lower outlier that should be taken out is a negative number of flyers. All other lower bound outliers check out at this moment and should be kept."
   ]
  },
  {
   "cell_type": "markdown",
   "id": "e59a6a30",
   "metadata": {},
   "source": [
    "### * Use the IQR Range Rule and the upper and upper bounds to identify the upper outliers of each column of lemonade.csv, using the multiplier of 1.5. Do these upper outliers make sense? Which outliers should be kept?"
   ]
  },
  {
   "cell_type": "code",
   "execution_count": null,
   "id": "147b93b8",
   "metadata": {},
   "outputs": [],
   "source": []
  },
  {
   "cell_type": "code",
   "execution_count": null,
   "id": "9b5d42b2",
   "metadata": {},
   "outputs": [],
   "source": [
    "    \n",
    "columns=['Temperature', 'Rainfall','Flyers','Price','Sales']\n",
    "for col in columns:\n",
    "    lower_bound, upper_bound = get_lower_and_upper_bounds(df[col])\n",
    "    print(f'{col} upper bound: {upper_bound}')    \n",
    "       \n",
    "    upper = (df[(df[col]) > upper_bound])\n",
    "    print(upper)\n",
    "    print('____________________')"
   ]
  },
  {
   "cell_type": "code",
   "execution_count": null,
   "id": "25fc5253",
   "metadata": {},
   "outputs": [],
   "source": [
    "df[df.Temperature>104.7]"
   ]
  },
  {
   "cell_type": "markdown",
   "id": "8a3e5e57",
   "metadata": {},
   "source": [
    "**Temperature of 212 seems like a mistake and should not be kept as an outlier.**"
   ]
  },
  {
   "cell_type": "code",
   "execution_count": null,
   "id": "e68d8e76",
   "metadata": {
    "scrolled": true
   },
   "outputs": [],
   "source": [
    "df[df.Rainfall>1.3]"
   ]
  },
  {
   "cell_type": "markdown",
   "id": "2ade5942",
   "metadata": {},
   "source": [
    "**Rainfall greater than 1.3 can be a normal occurance and outliers should be kept**"
   ]
  },
  {
   "cell_type": "code",
   "execution_count": null,
   "id": "fcc206a6",
   "metadata": {},
   "outputs": [],
   "source": [
    "df[df.Flyers>76]"
   ]
  },
  {
   "cell_type": "markdown",
   "id": "924d1f03",
   "metadata": {},
   "source": [
    "**Flyers distributed greater than 76 can be a normal occurance and outliers should be kept.**"
   ]
  },
  {
   "cell_type": "code",
   "execution_count": null,
   "id": "73ca6da7",
   "metadata": {},
   "outputs": [],
   "source": [
    "df[df.Sales>45]"
   ]
  },
  {
   "cell_type": "markdown",
   "id": "745309d5",
   "metadata": {},
   "source": [
    "**Sales greater than 45 can occur.A sale of 524 seems unlikely but it is still probable. Outliers should be kept**"
   ]
  },
  {
   "cell_type": "markdown",
   "id": "cc78b170",
   "metadata": {},
   "source": [
    "The upper limit outliers that should be taken out is a temperature of 212. All other outliers check out at this moment in time."
   ]
  },
  {
   "cell_type": "markdown",
   "id": "74912832",
   "metadata": {},
   "source": [
    "### * Using the multiplier of 3, IQR Range Rule, and the lower bounds, identify the outliers below the lower bound in each colum of lemonade.csv. Do these lower outliers make sense? Which outliers should be kept?"
   ]
  },
  {
   "cell_type": "code",
   "execution_count": null,
   "id": "8ac8c18c",
   "metadata": {},
   "outputs": [],
   "source": [
    "columns=['Temperature', 'Rainfall','Flyers','Price','Sales']\n",
    "for col in columns:\n",
    "    lower_bound, upper_bound = get_lower_and_upper_bounds(df[col],3)\n",
    "    print(f'{col}--lower bound: {lower_bound}')    \n",
    "       \n",
    "    lower = (df[(df[col])<lower_bound])\n",
    "    print(lower)\n",
    "    print('____________________')"
   ]
  },
  {
   "cell_type": "markdown",
   "id": "246d36fe",
   "metadata": {},
   "source": [
    "**Using a multiplier of 3 , Flyers as a negative number does not make sense in the real world and should be taken out as an outlier of the dataset.**"
   ]
  },
  {
   "cell_type": "markdown",
   "id": "e8937e52",
   "metadata": {},
   "source": [
    "### * Using the multiplier of 3, IQR Range Rule, and the upper bounds, identify the outliers above the upper_bound in each colum of lemonade.csv. Do these upper outliers make sense? Which outliers should be kept?"
   ]
  },
  {
   "cell_type": "code",
   "execution_count": null,
   "id": "ecc4a322",
   "metadata": {},
   "outputs": [],
   "source": [
    "columns=['Temperature', 'Rainfall','Flyers','Price','Sales']\n",
    "for col in columns:\n",
    "    lower_bound, upper_bound = get_lower_and_upper_bounds(df[col],3)\n",
    "    print(f'{col}--upper bound: {upper_bound}')    \n",
    "       \n",
    "    lower = (df[(df[col])>upper_bound])\n",
    "    print(lower)\n",
    "    print('____________________')"
   ]
  },
  {
   "cell_type": "markdown",
   "id": "35884de7",
   "metadata": {},
   "source": [
    "**When 3 is used as a multiplier fo the upper bound the only outlier that does not check out is temperature at 212 all other outliers are part of the real world.Temperature outliers should be taken out and all others can be kept at this moment.**"
   ]
  },
  {
   "cell_type": "markdown",
   "id": "cefbdbee",
   "metadata": {},
   "source": [
    "## 2. Identify if any columns in lemonade.csv are normally distributed. For normally distributed columns:"
   ]
  },
  {
   "cell_type": "markdown",
   "id": "5e0e03e9",
   "metadata": {},
   "source": [
    "* Use a 2 sigma decision rule to isolate the outliers.\n",
    "\n",
    "    * Do these make sense?\n",
    "    * Should certain outliers be kept or removed?"
   ]
  },
  {
   "cell_type": "code",
   "execution_count": null,
   "id": "42acaa81",
   "metadata": {},
   "outputs": [],
   "source": [
    "# Calculate the z-score \n",
    "zscores = pd.Series((x - x.mean()) / x.std())\n",
    "\n",
    "# Finds all of the observations two standard deviations or more.\n",
    "x[zscores.abs() >= 2]\n",
    "\n",
    "# Finds all of the observations three standard deviations or more\n",
    "x[zscores.abs() >= 3]"
   ]
  },
  {
   "cell_type": "code",
   "execution_count": null,
   "id": "8921d452",
   "metadata": {
    "scrolled": false
   },
   "outputs": [],
   "source": [
    "# Z scores greater than 2\n",
    "for col in columns:\n",
    "    print(col)\n",
    "    z_scores = (df[col] - df[col].mean()) / df[col].std()\n",
    "    display(pd.DataFrame(z_scores))\n",
    "    df['zscores'] = z_scores\n",
    "    display(pd.DataFrame(df[df['zscores'].abs() >=2][col]))\n",
    "    sns.histplot(df[col])\n",
    "    plt.title(f'{col} Histogram' )\n",
    "    plt.show();"
   ]
  },
  {
   "cell_type": "markdown",
   "id": "8a83c200",
   "metadata": {},
   "source": [
    "**With Z-score set to 2 some values that are outside of this bound seem likely and a few seem unlikely.**"
   ]
  },
  {
   "cell_type": "markdown",
   "id": "0906025f",
   "metadata": {},
   "source": [
    "# 3. Now use a 3 sigma decision rule to isolate the outliers in the normally distributed columns from lemonade.csv"
   ]
  },
  {
   "cell_type": "code",
   "execution_count": null,
   "id": "882184cd",
   "metadata": {
    "scrolled": false
   },
   "outputs": [],
   "source": [
    "# Z scores greater than 3\n",
    "for col in columns:\n",
    "    print(col)\n",
    "    z_scores = (df[col] - df[col].mean()) / df[col].std()\n",
    "    display(pd.DataFrame(z_scores))\n",
    "    df['zscores'] = z_scores\n",
    "    display(pd.DataFrame(df[df['zscores'].abs() >=3][col]))\n",
    "    sns.histplot(df[col])\n",
    "    plt.show();"
   ]
  },
  {
   "cell_type": "markdown",
   "id": "85c9b7ea",
   "metadata": {},
   "source": [
    "**With z-score set at 3 outliers of temperature of 212 and a negative number of flyers should be removed. There is other outliers that show sales, rainfall outside of the z-score =3 , but it can be probable that this has occured.**"
   ]
  },
  {
   "cell_type": "code",
   "execution_count": null,
   "id": "54eacfa8",
   "metadata": {},
   "outputs": [],
   "source": []
  },
  {
   "cell_type": "markdown",
   "id": "be427772",
   "metadata": {},
   "source": [
    "### Look into outliers"
   ]
  },
  {
   "cell_type": "markdown",
   "id": "10db87ea",
   "metadata": {},
   "source": [
    "Temperature of 212 is above the normal, likely a typo. Will be corrected by replacing value with previous day"
   ]
  },
  {
   "cell_type": "code",
   "execution_count": null,
   "id": "95e7ce59",
   "metadata": {
    "scrolled": false
   },
   "outputs": [],
   "source": [
    "plt.scatter(df.month,df['Temperature'])"
   ]
  },
  {
   "cell_type": "code",
   "execution_count": null,
   "id": "a8510e81",
   "metadata": {
    "scrolled": false
   },
   "outputs": [],
   "source": [
    "df.loc['2017-02-09':'2017-02-13']"
   ]
  },
  {
   "cell_type": "code",
   "execution_count": null,
   "id": "1801cb8d",
   "metadata": {},
   "outputs": [],
   "source": [
    "df.loc[df.Temperature ==212, 'Temperature']=df.loc['2017-02-10'].Temperature"
   ]
  },
  {
   "cell_type": "code",
   "execution_count": null,
   "id": "444d55a8",
   "metadata": {
    "scrolled": false
   },
   "outputs": [],
   "source": [
    "df.loc['2017-02-09':'2017-02-13']"
   ]
  },
  {
   "cell_type": "markdown",
   "id": "baf2791f",
   "metadata": {},
   "source": [
    "Rainfall it seems possible rainfall would go to 2.5 around that time of the month"
   ]
  },
  {
   "cell_type": "code",
   "execution_count": null,
   "id": "0f29506d",
   "metadata": {
    "scrolled": true
   },
   "outputs": [],
   "source": [
    "plt.figure(figsize=(10, 6))\n",
    "plt.scatter(df.month,df['Rainfall'])"
   ]
  },
  {
   "cell_type": "code",
   "execution_count": null,
   "id": "12e90235",
   "metadata": {},
   "outputs": [],
   "source": [
    "df[df.Rainfall>2.0]"
   ]
  },
  {
   "cell_type": "code",
   "execution_count": null,
   "id": "c6b8a7bf",
   "metadata": {
    "scrolled": true
   },
   "outputs": [],
   "source": [
    "df.loc['2017-12-28':'2017-12-31']"
   ]
  },
  {
   "cell_type": "markdown",
   "id": "85d394db",
   "metadata": {},
   "source": [
    "Sales , large sales seems to be attributed to July 4th."
   ]
  },
  {
   "cell_type": "code",
   "execution_count": null,
   "id": "46aeb2d9",
   "metadata": {},
   "outputs": [],
   "source": [
    "plt.figure(figsize=(10, 6))\n",
    "plt.scatter(df.month,df['Sales'])"
   ]
  },
  {
   "cell_type": "code",
   "execution_count": null,
   "id": "ceba2433",
   "metadata": {
    "scrolled": true
   },
   "outputs": [],
   "source": [
    "df[df.Sales> 50]"
   ]
  },
  {
   "cell_type": "code",
   "execution_count": null,
   "id": "a297c119",
   "metadata": {
    "scrolled": false
   },
   "outputs": [],
   "source": [
    "df.loc['2017-07-01':'2017-07-05']"
   ]
  },
  {
   "cell_type": "markdown",
   "id": "2452c412",
   "metadata": {},
   "source": [
    "Flyers with a negative number are probably a typo"
   ]
  },
  {
   "cell_type": "code",
   "execution_count": null,
   "id": "f390b74c",
   "metadata": {},
   "outputs": [],
   "source": [
    "plt.figure(figsize=(10, 6))\n",
    "plt.scatter(df.month,df['Flyers'])"
   ]
  },
  {
   "cell_type": "code",
   "execution_count": null,
   "id": "0321ca0b",
   "metadata": {},
   "outputs": [],
   "source": [
    "df.loc['2017-11-18':'2017-11-25']"
   ]
  },
  {
   "cell_type": "code",
   "execution_count": null,
   "id": "7d282d1a",
   "metadata": {
    "scrolled": true
   },
   "outputs": [],
   "source": [
    "df.Flyer = df.Flyers.abs()"
   ]
  },
  {
   "cell_type": "code",
   "execution_count": null,
   "id": "b8bd88ac",
   "metadata": {
    "scrolled": true
   },
   "outputs": [],
   "source": [
    "df.Flyer.describe()"
   ]
  },
  {
   "cell_type": "markdown",
   "id": "43613f3b",
   "metadata": {},
   "source": [
    "### create dict for outliers"
   ]
  },
  {
   "cell_type": "code",
   "execution_count": null,
   "id": "12f41041",
   "metadata": {},
   "outputs": [],
   "source": [
    "outliers = {}\n",
    "for col in df.columns:\n",
    "    # to exclude objects and strings\n",
    "    if np.issubdtype(df[col].dtype, np.number):\n",
    "        lower_bound, upper_bound=get_lower_and_upper_bounds(df[col])\n",
    "        print(f'Lower Bounds for {col} : {lower_bound}\\nUpper bounds for {col}: {upper_bound}\\n')\n",
    "        print('____________________')\n",
    "        outliers[col]={}\n",
    "        outliers[col]['bounds']={'upper':upper_bound, 'lower': lower_bound}\n",
    "        outliers[col]['df']=df[(df[col] > upper_bound) | (df[col]< lower_bound)]\n",
    "    else:\n",
    "        pass"
   ]
  },
  {
   "cell_type": "code",
   "execution_count": null,
   "id": "2f06b320",
   "metadata": {
    "scrolled": false
   },
   "outputs": [],
   "source": [
    "outliers['Temperature']['df']"
   ]
  },
  {
   "cell_type": "code",
   "execution_count": null,
   "id": "6ebbce2b",
   "metadata": {
    "scrolled": false
   },
   "outputs": [],
   "source": [
    "outliers['Flyers']['df']"
   ]
  }
 ],
 "metadata": {
  "kernelspec": {
   "display_name": "Python 3 (ipykernel)",
   "language": "python",
   "name": "python3"
  },
  "language_info": {
   "codemirror_mode": {
    "name": "ipython",
    "version": 3
   },
   "file_extension": ".py",
   "mimetype": "text/x-python",
   "name": "python",
   "nbconvert_exporter": "python",
   "pygments_lexer": "ipython3",
   "version": "3.9.12"
  }
 },
 "nbformat": 4,
 "nbformat_minor": 5
}
